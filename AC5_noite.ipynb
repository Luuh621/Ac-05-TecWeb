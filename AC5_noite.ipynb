{
  "nbformat": 4,
  "nbformat_minor": 0,
  "metadata": {
    "colab": {
      "name": "AC5_noite",
      "version": "0.3.2",
      "provenance": [],
      "collapsed_sections": [],
      "include_colab_link": true
    },
    "kernelspec": {
      "name": "python3",
      "display_name": "Python 3"
    }
  },
  "cells": [
    {
      "cell_type": "markdown",
      "metadata": {
        "id": "view-in-github",
        "colab_type": "text"
      },
      "source": [
        "[View in Colaboratory](https://colab.research.google.com/github/Luuh621/Ac-05-TecWeb/blob/master/AC5_noite.ipynb)"
      ]
    },
    {
      "metadata": {
        "id": "xAONz51HOs8k",
        "colab_type": "text"
      },
      "cell_type": "markdown",
      "source": [
        "\n",
        "\n",
        "JavaScript - AC5 noite\n",
        "\n",
        "Instruções\n",
        "\n",
        "Instruções\n",
        "\n",
        "Trabalho em grupo.\n",
        "\n",
        "1.   Todos os alunos devem enviar individualmente uma cópia da AC para o google class.\n",
        "2.   O código deve ser escrito dentro do notebook conforme foi explicado em sala e conforme exemplo no notebook.\n",
        "3.   Não serão aceitas AC’s fora do prazo.\n"
      ]
    },
    {
      "metadata": {
        "id": "2NgQ-90uOxBh",
        "colab_type": "text"
      },
      "cell_type": "markdown",
      "source": [
        "1) Receba dois números e retorne qual deles é o maior."
      ]
    },
    {
      "metadata": {
        "id": "X1EVDxWpeiEG",
        "colab_type": "code",
        "colab": {
          "base_uri": "https://localhost:8080/",
          "height": 117
        },
        "outputId": "c44aed92-dfba-4e2b-87f9-8112c8926fbe"
      },
      "cell_type": "code",
      "source": [
        "from IPython.display import display, HTML, Javascript\n",
        "\n",
        "html ='''\n",
        "   <html lang=\"pt\">\n",
        "\n",
        "<head>\n",
        "    <meta charset=\"utf-8\" />\n",
        "  <script>\n",
        "  \n",
        "          \n",
        "      function maior(){\n",
        "        \n",
        "        var num1 = document.getElementById(\"num1\");\n",
        "        var num2 = document.getElementById(\"num2\");\n",
        "      \n",
        "        if (Number(num1.value) > Number(num2.value))  console.log(num1.value);\n",
        "        if (Number(num1.value) < Number(num2.value))  console.log(num2.value);\n",
        "        if (Number(num1.value) == Number(num2.value)) console.log(\"igual\");\n",
        "          \n",
        "      \n",
        "      }\n",
        "       \n",
        "  </script>\n",
        "\n",
        "</head>\n",
        "\n",
        "  <body>\n",
        "          \n",
        "   <form onsubmit=\"javascript: return maior()\">\n",
        "      \n",
        "        <label for=\"num1\">Primeiro</label> <br>\n",
        "        <input type=\"text\" id=\"num1\"> <br>\n",
        "        \n",
        "        <label for=\"num2\">Segundo</label> <br>\n",
        "        <input type=\"text\" id=\"num2\"> <br>               \n",
        "\n",
        "        <input type=\"submit\" value=\"Enviar\">\n",
        "\n",
        "   </form>\n",
        "\n",
        "     \n",
        "  </body>\n",
        "\n",
        "</html>\n",
        "'''\n",
        "\n",
        "display(HTML(html))\n"
      ],
      "execution_count": 0,
      "outputs": [
        {
          "output_type": "display_data",
          "data": {
            "text/html": [
              "\n",
              "   <html lang=\"pt\">\n",
              "\n",
              "<head>\n",
              "    <meta charset=\"utf-8\" />\n",
              "  <script>\n",
              "  \n",
              "          \n",
              "      function maior(){\n",
              "        \n",
              "        var num1 = document.getElementById(\"num1\");\n",
              "        var num2 = document.getElementById(\"num2\");\n",
              "      \n",
              "        if (Number(num1.value) > Number(num2.value))  console.log(num1.value);\n",
              "        if (Number(num1.value) < Number(num2.value))  console.log(num2.value);\n",
              "        if (Number(num1.value) == Number(num2.value)) console.log(\"igual\");\n",
              "          \n",
              "      \n",
              "      }\n",
              "       \n",
              "  </script>\n",
              "\n",
              "</head>\n",
              "\n",
              "  <body>\n",
              "          \n",
              "   <form onsubmit=\"javascript: return maior()\">\n",
              "      \n",
              "        <label for=\"num1\">Primeiro</label> <br>\n",
              "        <input type=\"text\" id=\"num1\"> <br>\n",
              "        \n",
              "        <label for=\"num2\">Segundo</label> <br>\n",
              "        <input type=\"text\" id=\"num2\"> <br>               \n",
              "\n",
              "        <input type=\"submit\" value=\"Enviar\">\n",
              "\n",
              "   </form>\n",
              "\n",
              "     \n",
              "  </body>\n",
              "\n",
              "</html>\n"
            ],
            "text/plain": [
              "<IPython.core.display.HTML object>"
            ]
          },
          "metadata": {
            "tags": []
          }
        }
      ]
    },
    {
      "metadata": {
        "id": "lG8SSn6n_nuV",
        "colab_type": "code",
        "colab": {}
      },
      "cell_type": "code",
      "source": [
        ""
      ],
      "execution_count": 0,
      "outputs": []
    },
    {
      "metadata": {
        "id": "TB1DL--W_oDb",
        "colab_type": "code",
        "colab": {}
      },
      "cell_type": "code",
      "source": [
        ""
      ],
      "execution_count": 0,
      "outputs": []
    },
    {
      "metadata": {
        "id": "K8jIv3XxO9NV",
        "colab_type": "text"
      },
      "cell_type": "markdown",
      "source": [
        "2) Receba uma palavra e determine se ela é um palindrome."
      ]
    },
    {
      "metadata": {
        "id": "0dDE4IDt-qUj",
        "colab_type": "code",
        "colab": {}
      },
      "cell_type": "code",
      "source": [
        "function Exercicio2() {\n",
        "\n",
        "    let palavra = document.getElementById(\"InputTexto\");\n",
        "    var palavra1 = palavra.value.toLowerCase(); //converte tudo para minusculo\n",
        "    var palavraInversa = palavra1.split(\"\").reverse(\"\").join(\"\"); //Separar, inverter e juntar a palavra\n",
        "\n",
        "    if (palavra1 == palavraInversa){\n",
        "        alert(\"A palavra é um palindromo\")\n",
        "    }else{\n",
        "         alert(\"A palavra não é um palindromo\");\n",
        "    }\n",
        "}"
      ],
      "execution_count": 0,
      "outputs": []
    },
    {
      "metadata": {
        "id": "KEEmwaMWPERT",
        "colab_type": "text"
      },
      "cell_type": "markdown",
      "source": [
        "3) Receba uma palavra e determine se os três primeiros caracteres desta palavra são iguais aos três últimos. (palavra deve terno mínimo 6 caracteres. Se tiver menos retorne \"Palavra Inválida\".)"
      ]
    },
    {
      "metadata": {
        "id": "dE4A3q6u-zPe",
        "colab_type": "code",
        "colab": {}
      },
      "cell_type": "code",
      "source": [
        "function Exercicio3(){\n",
        "\n",
        "    let palavra = document.getElementById(\"InputTexto2\");\n",
        "    var PalavraMinuscula = palavra.value.toLowerCase(); //converte tudo para minusculo\n",
        "    var PrimeirasLetras = PalavraMinuscula.substr(0,3)\n",
        "    var ReverterPalavra = PalavraMinuscula.split(\"\").reverse(\"\").join(\"\");//Separar, inverter e juntar a palavra\n",
        "    var PegaUltimasLetras = ReverterPalavra.substr(0,3); // Pega os 3 ultimos indices da palavra\n",
        "    var JuntarUltimasLetras = PegaUltimasLetras.split(\"\").reverse(\"\").join(\"\"); //Separar, inverter e juntar a palavra\n",
        "    // document.write(JuntarUltimasLetras) // testes basicas para saber o que esta saindo\n",
        "    if(palavra.value.length < 6){\n",
        "        alert(\"Palavra Invalida!\\nDigite uma palavra de no minimo 6 caracteres !\")\n",
        "    }else if(PrimeirasLetras == JuntarUltimasLetras){\n",
        "        alert(\"As letras sao iguais !\")      \n",
        "    }else {\n",
        "        alert(\"A letras nao sao iguais !\")\n",
        "    }"
      ],
      "execution_count": 0,
      "outputs": []
    },
    {
      "metadata": {
        "id": "W1_zcUNAPXGm",
        "colab_type": "text"
      },
      "cell_type": "markdown",
      "source": [
        "4) Construa uma função que recebe dois arranjos e devolve a União destes arranjos."
      ]
    },
    {
      "metadata": {
        "id": "AzqryGrP-9-P",
        "colab_type": "code",
        "colab": {}
      },
      "cell_type": "code",
      "source": [
        "function Exercicio4(){\n",
        "\n",
        "    var PrimeiroArranjo = document.getElementById(\"array1\");\n",
        "    var SegundoArranjo = document.getElementById(\"array2\");\n",
        "    var JuntarArranjo = PrimeiroArranjo.push(SegundoArranjo.value)\n",
        "    console.log(JuntarArranjo.value)"
      ],
      "execution_count": 0,
      "outputs": []
    },
    {
      "metadata": {
        "id": "LCY3DywUPhwv",
        "colab_type": "text"
      },
      "cell_type": "markdown",
      "source": [
        "5) Construa uma função que recebe dois arranjos e devolve a Intersecção destes arranjos."
      ]
    },
    {
      "metadata": {
        "id": "30EuAW_VPwRW",
        "colab_type": "text"
      },
      "cell_type": "markdown",
      "source": [
        "6) Construa um formulário que possua os campos nome, idade, altura e peso. Se nesta página for cadastrado um nome diferentes de vázio, uma idade acima de 18 anos e um peso abaixo de 90kg, printe na console a palavra OK, caso contrário printe na console a palavra NOK. "
      ]
    },
    {
      "metadata": {
        "id": "kbhZJxZ8_BWv",
        "colab_type": "code",
        "colab": {}
      },
      "cell_type": "code",
      "source": [
        "function Exercicio6(){\n",
        "\n",
        "    var nome = document.getElementById(\"InputNome\")\n",
        "    var idade = document.getElementById(\"InputIdade\")\n",
        "    var peso = document.getElementById(\"InputPeso\")\n",
        "\n",
        "    if(nome.value == \"\" || idade.value < 19 || peso.value  >=90 ){\n",
        "        console.log(\"NOK\")\n",
        "        alert(\"NOK\")\n",
        "        \n",
        "    }else{\n",
        "        console.log(\"OK\")\n",
        "        alert(\"OK\")\n",
        "        \n",
        "    }\n",
        "}"
      ],
      "execution_count": 0,
      "outputs": []
    },
    {
      "metadata": {
        "id": "jz57e2XAQZoE",
        "colab_type": "text"
      },
      "cell_type": "markdown",
      "source": [
        "7) Construa uma função que substitua todos os números pares de um arranjo pelo valor 1."
      ]
    },
    {
      "metadata": {
        "id": "u7muIkdv_D7e",
        "colab_type": "code",
        "colab": {}
      },
      "cell_type": "code",
      "source": [
        "function Exercicio7(){\n",
        "\n",
        "    var num = document.getElementById(\"InputAlteraPar\");    \n",
        "    var total = n/2;\n",
        "    while (num/2 == 0){\n",
        "        alert(\"Ele Ã© par\")\n",
        "    break\n",
        "    }"
      ],
      "execution_count": 0,
      "outputs": []
    },
    {
      "metadata": {
        "id": "hbQ3S_1RgWD8",
        "colab_type": "code",
        "colab": {}
      },
      "cell_type": "code",
      "source": [
        ""
      ],
      "execution_count": 0,
      "outputs": []
    },
    {
      "metadata": {
        "id": "nfckFLs0Q0Op",
        "colab_type": "text"
      },
      "cell_type": "markdown",
      "source": [
        "8) Construa uma função que verifica quantos A's (caixa alta e baixa) existem em uma palavra."
      ]
    },
    {
      "metadata": {
        "id": "tfqxAz6X8hsV",
        "colab_type": "code",
        "colab": {
          "base_uri": "https://localhost:8080/",
          "height": 78
        },
        "outputId": "d6cda687-9aee-4604-936f-9c0d2c3f71f8"
      },
      "cell_type": "code",
      "source": [
        "from IPython.display import display, HTML, Javascript\n",
        "\n",
        "html ='''\n",
        "<html lang=\"pt\">\n",
        "\n",
        "<head>\n",
        "    <meta charset=\"utf-8\" />\n",
        "  <script>\n",
        "  \n",
        "      \n",
        "          \n",
        "      function palavra(str){\n",
        "        \n",
        "        var cont = 0;\n",
        "        var palavra = String(str.value);        \n",
        "        var n = palavra.length;\n",
        "        \n",
        "        for(i = 0; i < n ; i++) {\n",
        "\n",
        "              if(palavra[i] ==\"A\" || palavra[i] == \"a\") cont++;\n",
        "\n",
        "        }    \n",
        "          \n",
        "        console.log(cont);\n",
        "            \n",
        "      }\n",
        "  \n",
        "      function enviar() {\n",
        "      \n",
        "        var pala = document.getElementById(\"pala\");\n",
        "        palavra(pala);\n",
        "\n",
        "      }  \n",
        "  \n",
        "  \n",
        "  </script>\n",
        "\n",
        "</head>\n",
        "\n",
        "  <body>\n",
        "      \n",
        "    \n",
        " <form onsubmit=\"javascript: return enviar()\">\n",
        "      \n",
        "        <label for=\"pala\">Palavra</label> <br>\n",
        "        <input type=\"text\" id=\"pala\"> <br>\n",
        "        \n",
        "        <input type=\"submit\" value=\"Enviar\">\n",
        "\n",
        " </form>\n",
        "\n",
        "     </form>\n",
        "\n",
        "\n",
        "  </body>\n",
        "\n",
        "</html>\n",
        "'''\n",
        "display(HTML(html))"
      ],
      "execution_count": 0,
      "outputs": [
        {
          "output_type": "display_data",
          "data": {
            "text/html": [
              "\n",
              "<html lang=\"pt\">\n",
              "\n",
              "<head>\n",
              "    <meta charset=\"utf-8\" />\n",
              "  <script>\n",
              "  \n",
              "      \n",
              "          \n",
              "      function palavra(str){\n",
              "        \n",
              "        var cont = 0;\n",
              "        var palavra = String(str.value);        \n",
              "        var n = palavra.length;\n",
              "        \n",
              "        for(i = 0; i < n ; i++) {\n",
              "\n",
              "              if(palavra[i] ==\"A\" || palavra[i] == \"a\") cont++;\n",
              "\n",
              "        }    \n",
              "          \n",
              "        console.log(cont);\n",
              "            \n",
              "      }\n",
              "  \n",
              "      function enviar() {\n",
              "      \n",
              "        var pala = document.getElementById(\"pala\");\n",
              "        palavra(pala);\n",
              "\n",
              "      }  \n",
              "  \n",
              "  \n",
              "  </script>\n",
              "\n",
              "</head>\n",
              "\n",
              "  <body>\n",
              "      \n",
              "    \n",
              " <form onsubmit=\"javascript: return enviar()\">\n",
              "      \n",
              "        <label for=\"pala\">Palavra</label> <br>\n",
              "        <input type=\"text\" id=\"pala\"> <br>\n",
              "        \n",
              "        <input type=\"submit\" value=\"Enviar\">\n",
              "\n",
              " </form>\n",
              "\n",
              "     </form>\n",
              "\n",
              "\n",
              "  </body>\n",
              "\n",
              "</html>\n"
            ],
            "text/plain": [
              "<IPython.core.display.HTML object>"
            ]
          },
          "metadata": {
            "tags": []
          }
        }
      ]
    },
    {
      "metadata": {
        "id": "8w95dtSeRVkm",
        "colab_type": "text"
      },
      "cell_type": "markdown",
      "source": [
        "9) Construa uma função que recebe uma palavra e devolve quantas vogais existe nestas palavras."
      ]
    },
    {
      "metadata": {
        "id": "acASYFNZ_HKd",
        "colab_type": "code",
        "colab": {}
      },
      "cell_type": "code",
      "source": [
        "function palavra(str){\n",
        "        \n",
        "    var cont = 0;\n",
        "    let palavra = String(str.value);        \n",
        "    var n = palavra.length;\n",
        "    \n",
        "    for(i = 0; i < n ; i++) {\n",
        "\n",
        "          if(palavra[i] ==\"A\" || palavra[i] ==\"E\" || palavra[i] ==\"I\" ||  palavra[i] ==\"O\" || palavra[i] ==\"U\" || palavra[i] == \"a\" || palavra[i] == \"e\" || palavra[i] == \"i\" || palavra[i] == \"o\" || palavra[i] == \"u\") cont++;\n",
        "\n",
        "    }    \n",
        "      \n",
        "    console.log(cont);\n",
        "    alert(cont)\n",
        "        \n",
        "  }\n",
        "\n",
        "  function Exercicio9() {\n",
        "  \n",
        "    var InputContaVolga = document.getElementById(\"InputContaVolga\");\n",
        "    palavra(InputContaVolga);\n",
        "\n",
        "  }  "
      ],
      "execution_count": 0,
      "outputs": []
    },
    {
      "metadata": {
        "id": "zrlxXDR2Rdxq",
        "colab_type": "text"
      },
      "cell_type": "markdown",
      "source": [
        "10) Construa uma função que inverta uma palavra e retorne esta palavra invertida."
      ]
    },
    {
      "metadata": {
        "id": "tDK2r5wo_IRF",
        "colab_type": "code",
        "colab": {}
      },
      "cell_type": "code",
      "source": [
        "function Exercicio10(){\n",
        "\n",
        "    let palavra = document.getElementById(\"InputInverterPalavra\");\n",
        "    var PalavraMinuscula1 = palavra.value.toLowerCase(\"\"); //converte tudo para minusculo\n",
        "    var InvertePalavra = PalavraMinuscula1.split(\"\").reverse(\"\").join(\"\");//Separar, inverter e juntar a palavra\n",
        "    alert(InvertePalavra)\n",
        "\n",
        "\n",
        "}"
      ],
      "execution_count": 0,
      "outputs": []
    }
  ]
}